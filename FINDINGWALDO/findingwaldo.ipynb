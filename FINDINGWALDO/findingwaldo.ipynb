{
 "cells": [
  {
   "cell_type": "code",
   "execution_count": 1,
   "metadata": {},
   "outputs": [],
   "source": [
    "import cv2\n",
    "import numpy as np "
   ]
  },
  {
   "cell_type": "code",
   "execution_count": 2,
   "metadata": {},
   "outputs": [],
   "source": [
    "image  = cv2.imread('WaldoBeach.jpg')\n",
    "\n",
    "template = cv2.imread('waldo.jpg')\n",
    "\n",
    "cv2.imshow('where is waldo',image)\n",
    "cv2.imshow('waldo',template)\n",
    "\n",
    "gray = cv2.cvtColor(image, cv2.COLOR_BGR2GRAY)\n",
    "\n",
    "template = cv2.cvtColor(template, cv2.COLOR_BGR2GRAY)\n",
    "\n",
    "\n",
    "result = cv2.matchTemplate(gray, template, cv2.TM_CCOEFF)\n",
    "min_val, max_val , min_loc,max_loc = cv2.minMaxLoc(result)\n",
    "\n",
    "top_left = max_loc\n",
    "\n",
    "bottom_right = (top_left[0] + np.shape(template)[0],\n",
    "                top_left[1] + np.shape(template)[1])\n",
    "cv2.rectangle(image, top_left, bottom_right,\n",
    "              (0,255,0),5)\n",
    "cv2.imshow('whreis waldo?',image)\n",
    "cv2.waitKey(0)\n",
    "\n",
    "top_left_bad = min_loc\n",
    "bottom_right_bad = (top_left_bad[0] + np.shape(template)[0],\n",
    "                    top_left_bad[1] + np.shape(template)[1]\n",
    "\n",
    ")\n",
    "\n",
    "cv2.rectangle(image, top_left_bad,bottom_right_bad,\n",
    "              (0,0,255),5)\n",
    "cv2.imshow('the worst', image)\n",
    "cv2.waitKey(0)\n",
    "cv2.destroyAllWindows()\n"
   ]
  },
  {
   "cell_type": "code",
   "execution_count": 3,
   "metadata": {},
   "outputs": [
    {
     "data": {
      "text/plain": [
       "array([[-339938.7  , -375066.94 , -478751.47 , ...,   56072.69 ,\n",
       "          61415.37 ,   63941.098],\n",
       "       [-363611.72 , -412662.8  , -485368.8  , ...,   63227.5  ,\n",
       "          72060.79 ,   77810.516],\n",
       "       [-377961.   , -424478.72 , -429048.6  , ...,   54768.22 ,\n",
       "          47716.184,   49601.95 ],\n",
       "       ...,\n",
       "       [-136814.86 ,  -43506.64 ,  -36974.668, ..., -892019.5  ,\n",
       "        -838747.2  , -891842.75 ],\n",
       "       [ -52502.387,   11892.145, -103310.3  , ..., -742791.7  ,\n",
       "        -720552.06 , -689490.56 ],\n",
       "       [ -95518.58 ,  -38368.375, -128562.195, ..., -461299.75 ,\n",
       "        -461226.7  , -380453.06 ]], dtype=float32)"
      ]
     },
     "execution_count": 3,
     "metadata": {},
     "output_type": "execute_result"
    }
   ],
   "source": [
    "result"
   ]
  },
  {
   "cell_type": "code",
   "execution_count": 4,
   "metadata": {},
   "outputs": [
    {
     "data": {
      "text/plain": [
       "(720, 976)"
      ]
     },
     "execution_count": 4,
     "metadata": {},
     "output_type": "execute_result"
    }
   ],
   "source": [
    "np.shape(result)"
   ]
  },
  {
   "cell_type": "code",
   "execution_count": 5,
   "metadata": {},
   "outputs": [
    {
     "data": {
      "text/plain": [
       "(49, 49)"
      ]
     },
     "execution_count": 5,
     "metadata": {},
     "output_type": "execute_result"
    }
   ],
   "source": [
    "np.shape(template)"
   ]
  },
  {
   "cell_type": "code",
   "execution_count": 6,
   "metadata": {},
   "outputs": [
    {
     "data": {
      "text/plain": [
       "(768, 1024, 3)"
      ]
     },
     "execution_count": 6,
     "metadata": {},
     "output_type": "execute_result"
    }
   ],
   "source": [
    "np.shape(image)"
   ]
  },
  {
   "cell_type": "code",
   "execution_count": 7,
   "metadata": {},
   "outputs": [
    {
     "data": {
      "text/plain": [
       "719"
      ]
     },
     "execution_count": 7,
     "metadata": {},
     "output_type": "execute_result"
    }
   ],
   "source": [
    "768-49"
   ]
  },
  {
   "cell_type": "code",
   "execution_count": 8,
   "metadata": {},
   "outputs": [
    {
     "data": {
      "text/plain": [
       "975"
      ]
     },
     "execution_count": 8,
     "metadata": {},
     "output_type": "execute_result"
    }
   ],
   "source": [
    "1024-49"
   ]
  }
 ],
 "metadata": {
  "kernelspec": {
   "display_name": "Python 3",
   "language": "python",
   "name": "python3"
  },
  "language_info": {
   "codemirror_mode": {
    "name": "ipython",
    "version": 3
   },
   "file_extension": ".py",
   "mimetype": "text/x-python",
   "name": "python",
   "nbconvert_exporter": "python",
   "pygments_lexer": "ipython3",
   "version": "3.11.4"
  }
 },
 "nbformat": 4,
 "nbformat_minor": 2
}
